{
  "cells": [
    {
      "cell_type": "markdown",
      "source": [
        "IMPORTS"
      ],
      "metadata": {
        "id": "9MEUJcmTGTl0"
      }
    },
    {
      "cell_type": "code",
      "execution_count": null,
      "metadata": {
        "id": "p6qS4odSMeVl"
      },
      "outputs": [],
      "source": [
        "import numpy as np\n",
        "import pandas as pd\n",
        "import matplotlib.pyplot as plt\n",
        "import seaborn as sns\n",
        "from sklearn.preprocessing import StandardScaler\n",
        "from sklearn.model_selection import train_test_split\n",
        "from sklearn.decomposition import PCA\n",
        "from sklearn.neighbors import KNeighborsClassifier\n",
        "from sklearn import metrics\n",
        "from sklearn.model_selection import GridSearchCV"
      ]
    },
    {
      "cell_type": "code",
      "execution_count": null,
      "metadata": {
        "id": "ImuO1Jd8Oprd"
      },
      "outputs": [],
      "source": [
        "df = pd.read_csv(\"creditcard.csv\")"
      ]
    },
    {
      "cell_type": "code",
      "execution_count": null,
      "metadata": {
        "colab": {
          "base_uri": "https://localhost:8080/",
          "height": 488
        },
        "id": "zwH6jASeOrP-",
        "outputId": "0f8f22bc-7cf7-485e-b64d-316a83840a37"
      },
      "outputs": [
        {
          "data": {
            "text/html": [
              "\n",
              "  <div id=\"df-cdcabb71-8018-4e09-bbc3-78c99d4bf396\">\n",
              "    <div class=\"colab-df-container\">\n",
              "      <div>\n",
              "<style scoped>\n",
              "    .dataframe tbody tr th:only-of-type {\n",
              "        vertical-align: middle;\n",
              "    }\n",
              "\n",
              "    .dataframe tbody tr th {\n",
              "        vertical-align: top;\n",
              "    }\n",
              "\n",
              "    .dataframe thead th {\n",
              "        text-align: right;\n",
              "    }\n",
              "</style>\n",
              "<table border=\"1\" class=\"dataframe\">\n",
              "  <thead>\n",
              "    <tr style=\"text-align: right;\">\n",
              "      <th></th>\n",
              "      <th>Time</th>\n",
              "      <th>V1</th>\n",
              "      <th>V2</th>\n",
              "      <th>V3</th>\n",
              "      <th>V4</th>\n",
              "      <th>V5</th>\n",
              "      <th>V6</th>\n",
              "      <th>V7</th>\n",
              "      <th>V8</th>\n",
              "      <th>V9</th>\n",
              "      <th>...</th>\n",
              "      <th>V21</th>\n",
              "      <th>V22</th>\n",
              "      <th>V23</th>\n",
              "      <th>V24</th>\n",
              "      <th>V25</th>\n",
              "      <th>V26</th>\n",
              "      <th>V27</th>\n",
              "      <th>V28</th>\n",
              "      <th>Amount</th>\n",
              "      <th>Class</th>\n",
              "    </tr>\n",
              "  </thead>\n",
              "  <tbody>\n",
              "    <tr>\n",
              "      <th>0</th>\n",
              "      <td>0.0</td>\n",
              "      <td>-1.359807</td>\n",
              "      <td>-0.072781</td>\n",
              "      <td>2.536347</td>\n",
              "      <td>1.378155</td>\n",
              "      <td>-0.338321</td>\n",
              "      <td>0.462388</td>\n",
              "      <td>0.239599</td>\n",
              "      <td>0.098698</td>\n",
              "      <td>0.363787</td>\n",
              "      <td>...</td>\n",
              "      <td>-0.018307</td>\n",
              "      <td>0.277838</td>\n",
              "      <td>-0.110474</td>\n",
              "      <td>0.066928</td>\n",
              "      <td>0.128539</td>\n",
              "      <td>-0.189115</td>\n",
              "      <td>0.133558</td>\n",
              "      <td>-0.021053</td>\n",
              "      <td>149.62</td>\n",
              "      <td>0</td>\n",
              "    </tr>\n",
              "    <tr>\n",
              "      <th>1</th>\n",
              "      <td>0.0</td>\n",
              "      <td>1.191857</td>\n",
              "      <td>0.266151</td>\n",
              "      <td>0.166480</td>\n",
              "      <td>0.448154</td>\n",
              "      <td>0.060018</td>\n",
              "      <td>-0.082361</td>\n",
              "      <td>-0.078803</td>\n",
              "      <td>0.085102</td>\n",
              "      <td>-0.255425</td>\n",
              "      <td>...</td>\n",
              "      <td>-0.225775</td>\n",
              "      <td>-0.638672</td>\n",
              "      <td>0.101288</td>\n",
              "      <td>-0.339846</td>\n",
              "      <td>0.167170</td>\n",
              "      <td>0.125895</td>\n",
              "      <td>-0.008983</td>\n",
              "      <td>0.014724</td>\n",
              "      <td>2.69</td>\n",
              "      <td>0</td>\n",
              "    </tr>\n",
              "    <tr>\n",
              "      <th>2</th>\n",
              "      <td>1.0</td>\n",
              "      <td>-1.358354</td>\n",
              "      <td>-1.340163</td>\n",
              "      <td>1.773209</td>\n",
              "      <td>0.379780</td>\n",
              "      <td>-0.503198</td>\n",
              "      <td>1.800499</td>\n",
              "      <td>0.791461</td>\n",
              "      <td>0.247676</td>\n",
              "      <td>-1.514654</td>\n",
              "      <td>...</td>\n",
              "      <td>0.247998</td>\n",
              "      <td>0.771679</td>\n",
              "      <td>0.909412</td>\n",
              "      <td>-0.689281</td>\n",
              "      <td>-0.327642</td>\n",
              "      <td>-0.139097</td>\n",
              "      <td>-0.055353</td>\n",
              "      <td>-0.059752</td>\n",
              "      <td>378.66</td>\n",
              "      <td>0</td>\n",
              "    </tr>\n",
              "    <tr>\n",
              "      <th>3</th>\n",
              "      <td>1.0</td>\n",
              "      <td>-0.966272</td>\n",
              "      <td>-0.185226</td>\n",
              "      <td>1.792993</td>\n",
              "      <td>-0.863291</td>\n",
              "      <td>-0.010309</td>\n",
              "      <td>1.247203</td>\n",
              "      <td>0.237609</td>\n",
              "      <td>0.377436</td>\n",
              "      <td>-1.387024</td>\n",
              "      <td>...</td>\n",
              "      <td>-0.108300</td>\n",
              "      <td>0.005274</td>\n",
              "      <td>-0.190321</td>\n",
              "      <td>-1.175575</td>\n",
              "      <td>0.647376</td>\n",
              "      <td>-0.221929</td>\n",
              "      <td>0.062723</td>\n",
              "      <td>0.061458</td>\n",
              "      <td>123.50</td>\n",
              "      <td>0</td>\n",
              "    </tr>\n",
              "    <tr>\n",
              "      <th>4</th>\n",
              "      <td>2.0</td>\n",
              "      <td>-1.158233</td>\n",
              "      <td>0.877737</td>\n",
              "      <td>1.548718</td>\n",
              "      <td>0.403034</td>\n",
              "      <td>-0.407193</td>\n",
              "      <td>0.095921</td>\n",
              "      <td>0.592941</td>\n",
              "      <td>-0.270533</td>\n",
              "      <td>0.817739</td>\n",
              "      <td>...</td>\n",
              "      <td>-0.009431</td>\n",
              "      <td>0.798278</td>\n",
              "      <td>-0.137458</td>\n",
              "      <td>0.141267</td>\n",
              "      <td>-0.206010</td>\n",
              "      <td>0.502292</td>\n",
              "      <td>0.219422</td>\n",
              "      <td>0.215153</td>\n",
              "      <td>69.99</td>\n",
              "      <td>0</td>\n",
              "    </tr>\n",
              "    <tr>\n",
              "      <th>...</th>\n",
              "      <td>...</td>\n",
              "      <td>...</td>\n",
              "      <td>...</td>\n",
              "      <td>...</td>\n",
              "      <td>...</td>\n",
              "      <td>...</td>\n",
              "      <td>...</td>\n",
              "      <td>...</td>\n",
              "      <td>...</td>\n",
              "      <td>...</td>\n",
              "      <td>...</td>\n",
              "      <td>...</td>\n",
              "      <td>...</td>\n",
              "      <td>...</td>\n",
              "      <td>...</td>\n",
              "      <td>...</td>\n",
              "      <td>...</td>\n",
              "      <td>...</td>\n",
              "      <td>...</td>\n",
              "      <td>...</td>\n",
              "      <td>...</td>\n",
              "    </tr>\n",
              "    <tr>\n",
              "      <th>284802</th>\n",
              "      <td>172786.0</td>\n",
              "      <td>-11.881118</td>\n",
              "      <td>10.071785</td>\n",
              "      <td>-9.834783</td>\n",
              "      <td>-2.066656</td>\n",
              "      <td>-5.364473</td>\n",
              "      <td>-2.606837</td>\n",
              "      <td>-4.918215</td>\n",
              "      <td>7.305334</td>\n",
              "      <td>1.914428</td>\n",
              "      <td>...</td>\n",
              "      <td>0.213454</td>\n",
              "      <td>0.111864</td>\n",
              "      <td>1.014480</td>\n",
              "      <td>-0.509348</td>\n",
              "      <td>1.436807</td>\n",
              "      <td>0.250034</td>\n",
              "      <td>0.943651</td>\n",
              "      <td>0.823731</td>\n",
              "      <td>0.77</td>\n",
              "      <td>0</td>\n",
              "    </tr>\n",
              "    <tr>\n",
              "      <th>284803</th>\n",
              "      <td>172787.0</td>\n",
              "      <td>-0.732789</td>\n",
              "      <td>-0.055080</td>\n",
              "      <td>2.035030</td>\n",
              "      <td>-0.738589</td>\n",
              "      <td>0.868229</td>\n",
              "      <td>1.058415</td>\n",
              "      <td>0.024330</td>\n",
              "      <td>0.294869</td>\n",
              "      <td>0.584800</td>\n",
              "      <td>...</td>\n",
              "      <td>0.214205</td>\n",
              "      <td>0.924384</td>\n",
              "      <td>0.012463</td>\n",
              "      <td>-1.016226</td>\n",
              "      <td>-0.606624</td>\n",
              "      <td>-0.395255</td>\n",
              "      <td>0.068472</td>\n",
              "      <td>-0.053527</td>\n",
              "      <td>24.79</td>\n",
              "      <td>0</td>\n",
              "    </tr>\n",
              "    <tr>\n",
              "      <th>284804</th>\n",
              "      <td>172788.0</td>\n",
              "      <td>1.919565</td>\n",
              "      <td>-0.301254</td>\n",
              "      <td>-3.249640</td>\n",
              "      <td>-0.557828</td>\n",
              "      <td>2.630515</td>\n",
              "      <td>3.031260</td>\n",
              "      <td>-0.296827</td>\n",
              "      <td>0.708417</td>\n",
              "      <td>0.432454</td>\n",
              "      <td>...</td>\n",
              "      <td>0.232045</td>\n",
              "      <td>0.578229</td>\n",
              "      <td>-0.037501</td>\n",
              "      <td>0.640134</td>\n",
              "      <td>0.265745</td>\n",
              "      <td>-0.087371</td>\n",
              "      <td>0.004455</td>\n",
              "      <td>-0.026561</td>\n",
              "      <td>67.88</td>\n",
              "      <td>0</td>\n",
              "    </tr>\n",
              "    <tr>\n",
              "      <th>284805</th>\n",
              "      <td>172788.0</td>\n",
              "      <td>-0.240440</td>\n",
              "      <td>0.530483</td>\n",
              "      <td>0.702510</td>\n",
              "      <td>0.689799</td>\n",
              "      <td>-0.377961</td>\n",
              "      <td>0.623708</td>\n",
              "      <td>-0.686180</td>\n",
              "      <td>0.679145</td>\n",
              "      <td>0.392087</td>\n",
              "      <td>...</td>\n",
              "      <td>0.265245</td>\n",
              "      <td>0.800049</td>\n",
              "      <td>-0.163298</td>\n",
              "      <td>0.123205</td>\n",
              "      <td>-0.569159</td>\n",
              "      <td>0.546668</td>\n",
              "      <td>0.108821</td>\n",
              "      <td>0.104533</td>\n",
              "      <td>10.00</td>\n",
              "      <td>0</td>\n",
              "    </tr>\n",
              "    <tr>\n",
              "      <th>284806</th>\n",
              "      <td>172792.0</td>\n",
              "      <td>-0.533413</td>\n",
              "      <td>-0.189733</td>\n",
              "      <td>0.703337</td>\n",
              "      <td>-0.506271</td>\n",
              "      <td>-0.012546</td>\n",
              "      <td>-0.649617</td>\n",
              "      <td>1.577006</td>\n",
              "      <td>-0.414650</td>\n",
              "      <td>0.486180</td>\n",
              "      <td>...</td>\n",
              "      <td>0.261057</td>\n",
              "      <td>0.643078</td>\n",
              "      <td>0.376777</td>\n",
              "      <td>0.008797</td>\n",
              "      <td>-0.473649</td>\n",
              "      <td>-0.818267</td>\n",
              "      <td>-0.002415</td>\n",
              "      <td>0.013649</td>\n",
              "      <td>217.00</td>\n",
              "      <td>0</td>\n",
              "    </tr>\n",
              "  </tbody>\n",
              "</table>\n",
              "<p>284807 rows × 31 columns</p>\n",
              "</div>\n",
              "      <button class=\"colab-df-convert\" onclick=\"convertToInteractive('df-cdcabb71-8018-4e09-bbc3-78c99d4bf396')\"\n",
              "              title=\"Convert this dataframe to an interactive table.\"\n",
              "              style=\"display:none;\">\n",
              "        \n",
              "  <svg xmlns=\"http://www.w3.org/2000/svg\" height=\"24px\"viewBox=\"0 0 24 24\"\n",
              "       width=\"24px\">\n",
              "    <path d=\"M0 0h24v24H0V0z\" fill=\"none\"/>\n",
              "    <path d=\"M18.56 5.44l.94 2.06.94-2.06 2.06-.94-2.06-.94-.94-2.06-.94 2.06-2.06.94zm-11 1L8.5 8.5l.94-2.06 2.06-.94-2.06-.94L8.5 2.5l-.94 2.06-2.06.94zm10 10l.94 2.06.94-2.06 2.06-.94-2.06-.94-.94-2.06-.94 2.06-2.06.94z\"/><path d=\"M17.41 7.96l-1.37-1.37c-.4-.4-.92-.59-1.43-.59-.52 0-1.04.2-1.43.59L10.3 9.45l-7.72 7.72c-.78.78-.78 2.05 0 2.83L4 21.41c.39.39.9.59 1.41.59.51 0 1.02-.2 1.41-.59l7.78-7.78 2.81-2.81c.8-.78.8-2.07 0-2.86zM5.41 20L4 18.59l7.72-7.72 1.47 1.35L5.41 20z\"/>\n",
              "  </svg>\n",
              "      </button>\n",
              "      \n",
              "  <style>\n",
              "    .colab-df-container {\n",
              "      display:flex;\n",
              "      flex-wrap:wrap;\n",
              "      gap: 12px;\n",
              "    }\n",
              "\n",
              "    .colab-df-convert {\n",
              "      background-color: #E8F0FE;\n",
              "      border: none;\n",
              "      border-radius: 50%;\n",
              "      cursor: pointer;\n",
              "      display: none;\n",
              "      fill: #1967D2;\n",
              "      height: 32px;\n",
              "      padding: 0 0 0 0;\n",
              "      width: 32px;\n",
              "    }\n",
              "\n",
              "    .colab-df-convert:hover {\n",
              "      background-color: #E2EBFA;\n",
              "      box-shadow: 0px 1px 2px rgba(60, 64, 67, 0.3), 0px 1px 3px 1px rgba(60, 64, 67, 0.15);\n",
              "      fill: #174EA6;\n",
              "    }\n",
              "\n",
              "    [theme=dark] .colab-df-convert {\n",
              "      background-color: #3B4455;\n",
              "      fill: #D2E3FC;\n",
              "    }\n",
              "\n",
              "    [theme=dark] .colab-df-convert:hover {\n",
              "      background-color: #434B5C;\n",
              "      box-shadow: 0px 1px 3px 1px rgba(0, 0, 0, 0.15);\n",
              "      filter: drop-shadow(0px 1px 2px rgba(0, 0, 0, 0.3));\n",
              "      fill: #FFFFFF;\n",
              "    }\n",
              "  </style>\n",
              "\n",
              "      <script>\n",
              "        const buttonEl =\n",
              "          document.querySelector('#df-cdcabb71-8018-4e09-bbc3-78c99d4bf396 button.colab-df-convert');\n",
              "        buttonEl.style.display =\n",
              "          google.colab.kernel.accessAllowed ? 'block' : 'none';\n",
              "\n",
              "        async function convertToInteractive(key) {\n",
              "          const element = document.querySelector('#df-cdcabb71-8018-4e09-bbc3-78c99d4bf396');\n",
              "          const dataTable =\n",
              "            await google.colab.kernel.invokeFunction('convertToInteractive',\n",
              "                                                     [key], {});\n",
              "          if (!dataTable) return;\n",
              "\n",
              "          const docLinkHtml = 'Like what you see? Visit the ' +\n",
              "            '<a target=\"_blank\" href=https://colab.research.google.com/notebooks/data_table.ipynb>data table notebook</a>'\n",
              "            + ' to learn more about interactive tables.';\n",
              "          element.innerHTML = '';\n",
              "          dataTable['output_type'] = 'display_data';\n",
              "          await google.colab.output.renderOutput(dataTable, element);\n",
              "          const docLink = document.createElement('div');\n",
              "          docLink.innerHTML = docLinkHtml;\n",
              "          element.appendChild(docLink);\n",
              "        }\n",
              "      </script>\n",
              "    </div>\n",
              "  </div>\n",
              "  "
            ],
            "text/plain": [
              "            Time         V1         V2        V3        V4        V5  \\\n",
              "0            0.0  -1.359807  -0.072781  2.536347  1.378155 -0.338321   \n",
              "1            0.0   1.191857   0.266151  0.166480  0.448154  0.060018   \n",
              "2            1.0  -1.358354  -1.340163  1.773209  0.379780 -0.503198   \n",
              "3            1.0  -0.966272  -0.185226  1.792993 -0.863291 -0.010309   \n",
              "4            2.0  -1.158233   0.877737  1.548718  0.403034 -0.407193   \n",
              "...          ...        ...        ...       ...       ...       ...   \n",
              "284802  172786.0 -11.881118  10.071785 -9.834783 -2.066656 -5.364473   \n",
              "284803  172787.0  -0.732789  -0.055080  2.035030 -0.738589  0.868229   \n",
              "284804  172788.0   1.919565  -0.301254 -3.249640 -0.557828  2.630515   \n",
              "284805  172788.0  -0.240440   0.530483  0.702510  0.689799 -0.377961   \n",
              "284806  172792.0  -0.533413  -0.189733  0.703337 -0.506271 -0.012546   \n",
              "\n",
              "              V6        V7        V8        V9  ...       V21       V22  \\\n",
              "0       0.462388  0.239599  0.098698  0.363787  ... -0.018307  0.277838   \n",
              "1      -0.082361 -0.078803  0.085102 -0.255425  ... -0.225775 -0.638672   \n",
              "2       1.800499  0.791461  0.247676 -1.514654  ...  0.247998  0.771679   \n",
              "3       1.247203  0.237609  0.377436 -1.387024  ... -0.108300  0.005274   \n",
              "4       0.095921  0.592941 -0.270533  0.817739  ... -0.009431  0.798278   \n",
              "...          ...       ...       ...       ...  ...       ...       ...   \n",
              "284802 -2.606837 -4.918215  7.305334  1.914428  ...  0.213454  0.111864   \n",
              "284803  1.058415  0.024330  0.294869  0.584800  ...  0.214205  0.924384   \n",
              "284804  3.031260 -0.296827  0.708417  0.432454  ...  0.232045  0.578229   \n",
              "284805  0.623708 -0.686180  0.679145  0.392087  ...  0.265245  0.800049   \n",
              "284806 -0.649617  1.577006 -0.414650  0.486180  ...  0.261057  0.643078   \n",
              "\n",
              "             V23       V24       V25       V26       V27       V28  Amount  \\\n",
              "0      -0.110474  0.066928  0.128539 -0.189115  0.133558 -0.021053  149.62   \n",
              "1       0.101288 -0.339846  0.167170  0.125895 -0.008983  0.014724    2.69   \n",
              "2       0.909412 -0.689281 -0.327642 -0.139097 -0.055353 -0.059752  378.66   \n",
              "3      -0.190321 -1.175575  0.647376 -0.221929  0.062723  0.061458  123.50   \n",
              "4      -0.137458  0.141267 -0.206010  0.502292  0.219422  0.215153   69.99   \n",
              "...          ...       ...       ...       ...       ...       ...     ...   \n",
              "284802  1.014480 -0.509348  1.436807  0.250034  0.943651  0.823731    0.77   \n",
              "284803  0.012463 -1.016226 -0.606624 -0.395255  0.068472 -0.053527   24.79   \n",
              "284804 -0.037501  0.640134  0.265745 -0.087371  0.004455 -0.026561   67.88   \n",
              "284805 -0.163298  0.123205 -0.569159  0.546668  0.108821  0.104533   10.00   \n",
              "284806  0.376777  0.008797 -0.473649 -0.818267 -0.002415  0.013649  217.00   \n",
              "\n",
              "        Class  \n",
              "0           0  \n",
              "1           0  \n",
              "2           0  \n",
              "3           0  \n",
              "4           0  \n",
              "...       ...  \n",
              "284802      0  \n",
              "284803      0  \n",
              "284804      0  \n",
              "284805      0  \n",
              "284806      0  \n",
              "\n",
              "[284807 rows x 31 columns]"
            ]
          },
          "execution_count": 9,
          "metadata": {},
          "output_type": "execute_result"
        }
      ],
      "source": [
        "df"
      ]
    },
    {
      "cell_type": "markdown",
      "source": [
        "DROP NA ROWS"
      ],
      "metadata": {
        "id": "t2knERRgGaRV"
      }
    },
    {
      "cell_type": "code",
      "execution_count": null,
      "metadata": {
        "id": "Ip0L_gBQO6ah"
      },
      "outputs": [],
      "source": [
        "df.isna().sum()\n",
        "df.dropna()\n",
        "df = df.reset_index(drop=True);"
      ]
    },
    {
      "cell_type": "code",
      "source": [
        "df = df.dropna()\n",
        "print(df.isna().sum())"
      ],
      "metadata": {
        "colab": {
          "base_uri": "https://localhost:8080/"
        },
        "id": "WmsiJyWa5Mp7",
        "outputId": "2a3a4a91-8ddb-4131-8917-30231a7fb889"
      },
      "execution_count": null,
      "outputs": [
        {
          "output_type": "stream",
          "name": "stdout",
          "text": [
            "Time      0\n",
            "V1        0\n",
            "V2        0\n",
            "V3        0\n",
            "V4        0\n",
            "V5        0\n",
            "V6        0\n",
            "V7        0\n",
            "V8        0\n",
            "V9        0\n",
            "V10       0\n",
            "V11       0\n",
            "V12       0\n",
            "V13       0\n",
            "V14       0\n",
            "V15       0\n",
            "V16       0\n",
            "V17       0\n",
            "V18       0\n",
            "V19       0\n",
            "V20       0\n",
            "V21       0\n",
            "V22       0\n",
            "V23       0\n",
            "V24       0\n",
            "V25       0\n",
            "V26       0\n",
            "V27       0\n",
            "V28       0\n",
            "Amount    0\n",
            "Class     0\n",
            "dtype: int64\n"
          ]
        }
      ]
    },
    {
      "cell_type": "code",
      "execution_count": null,
      "metadata": {
        "colab": {
          "base_uri": "https://localhost:8080/",
          "height": 303
        },
        "id": "SIdyE8P_QHe5",
        "outputId": "6c4a7a93-b50d-41ab-d59b-21bea7c2e2c7"
      },
      "outputs": [
        {
          "output_type": "execute_result",
          "data": {
            "text/plain": [
              "<matplotlib.axes._subplots.AxesSubplot at 0x7f72f2cd90d0>"
            ]
          },
          "metadata": {},
          "execution_count": 14
        },
        {
          "output_type": "display_data",
          "data": {
            "text/plain": [
              "<Figure size 432x288 with 2 Axes>"
            ],
            "image/png": "[encoded data removed]"
          },
          "metadata": {
            "needs_background": "light"
          }
        }
      ],
      "source": [
        "corr = df.corr()\n",
        "plt.figure()\n",
        "sns.heatmap(corr)"
      ]
    },
    {
      "cell_type": "markdown",
      "source": [
        "SELECT FEATURES AND SPLIT"
      ],
      "metadata": {
        "id": "3NiN1Is7GmDH"
      }
    },
    {
      "cell_type": "code",
      "execution_count": null,
      "metadata": {
        "id": "iWaR6-G7Qeya"
      },
      "outputs": [],
      "source": [
        "X = df[['Time','V1','V2','V3','V4','V5','V7','V8','V9','V10','V11','V12'\n",
        ",'V14','V16','V17','V18','Amount']]\n",
        "y = df['Class']\n",
        "\n",
        "scaler = StandardScaler()\n",
        "dfLabels = X.columns\n",
        "\n",
        "\n",
        "XStandard = pd.DataFrame(scaler.fit_transform(X))\n",
        "XStandard.columns = dfLabels\n",
        "X=XStandard\n",
        "\n",
        "X_train, X_test, y_train, y_test = train_test_split(X, y, test_size=(0.25),\n",
        "                                                    random_state=42)"
      ]
    },
    {
      "cell_type": "code",
      "execution_count": null,
      "metadata": {
        "colab": {
          "base_uri": "https://localhost:8080/",
          "height": 1000
        },
        "id": "pJmxE2xLUAeN",
        "outputId": "d5997b82-760b-4ef3-ce97-23ebdf80acfe"
      },
      "outputs": [
        {
          "output_type": "execute_result",
          "data": {
            "text/plain": [
              "Text(0.5, 0, 'Principal Component')"
            ]
          },
          "metadata": {},
          "execution_count": 16
        },
        {
          "output_type": "display_data",
          "data": {
            "text/plain": [
              "<Figure size 720x1224 with 1 Axes>"
            ],
            "image/png": "[encoded data removed]"
          },
          "metadata": {
            "needs_background": "light"
          }
        }
      ],
      "source": [
        "pca = PCA() \n",
        "X_train_pca = pca.fit_transform(X_train)\n",
        "X_test_pca = pca.transform(X_test)\n",
        "t = [1,2,3,4,5,6,7,8,9,10,11,12,13,14,15,16,17]\n",
        "plt.figure(figsize=(10,17))\n",
        "\n",
        "\n",
        "\n",
        "plt.bar(t,pca.explained_variance_ratio_)\n",
        "plt.title(\"PCA - Explained Variance\")\n",
        "plt.ylabel(\"Variance\")\n",
        "plt.xlabel(\"Principal Component\")"
      ]
    },
    {
      "cell_type": "code",
      "execution_count": null,
      "metadata": {
        "colab": {
          "base_uri": "https://localhost:8080/"
        },
        "id": "gQL73LUMUShW",
        "outputId": "91fc6d53-c43f-4ef5-9c19-71d3023d3a9d"
      },
      "outputs": [
        {
          "output_type": "execute_result",
          "data": {
            "text/plain": [
              "array([0.13345603, 0.12527457, 0.10649938, 0.07099099, 0.06464556,\n",
              "       0.05993388, 0.05878026, 0.05434064, 0.05252102, 0.04874358,\n",
              "       0.04737735, 0.04068757, 0.03646398, 0.03446178, 0.0321599 ,\n",
              "       0.02731271, 0.00635078])"
            ]
          },
          "metadata": {},
          "execution_count": 17
        }
      ],
      "source": [
        "pca.explained_variance_ratio_"
      ]
    },
    {
      "cell_type": "code",
      "execution_count": null,
      "metadata": {
        "id": "cqF4pCYJat13"
      },
      "outputs": [],
      "source": [
        "X_train_pca4 = X_train_pca[:,[0,1,2,3,4,5,6,7,8,9,10,11,12,13,14]]\n",
        "X_test_pca4 = X_test_pca[:,[0,1,2,3,4,5,6,7,8,9,10,11,12,13,14]]"
      ]
    },
    {
      "cell_type": "code",
      "execution_count": null,
      "metadata": {
        "colab": {
          "base_uri": "https://localhost:8080/"
        },
        "id": "PfrSXZqHbLRN",
        "outputId": "925e48be-69cc-4907-afec-4951bf703c07"
      },
      "outputs": [
        {
          "output_type": "stream",
          "name": "stdout",
          "text": [
            "Fitting 5 folds for each of 5 candidates, totalling 25 fits\n"
          ]
        },
        {
          "output_type": "stream",
          "name": "stderr",
          "text": [
            "/usr/local/lib/python3.7/dist-packages/joblib/externals/loky/process_executor.py:705: UserWarning: A worker stopped while some jobs were given to the executor. This can be caused by a too short worker timeout or by a memory leak.\n",
            "  \"timeout or by a memory leak.\", UserWarning\n"
          ]
        },
        {
          "output_type": "stream",
          "name": "stdout",
          "text": [
            "{'n_neighbors': 3}\n",
            "\n",
            "Mean Absolute Error: 0.0004476275738585497\n",
            "Mean Squared Error: 0.0004476275738585497\n",
            "Root Mean Squared Error: 0.021157210918704518\n",
            "Coefficient of Determination: 0.8819036039488813\n",
            "\n",
            "Mean Absolute Error: 0.0004476776720761052\n",
            "Mean Squared Error: 0.0004476776720761052\n",
            "Root Mean Squared Error: 0.021158394836946048\n",
            "Coefficient of Determination: 0.8256381234876278\n"
          ]
        }
      ],
      "source": [
        "params = {\n",
        "    'n_neighbors' : [2,3,4,5,6]\n",
        "}\n",
        "knn = GridSearchCV(KNeighborsClassifier(p=2),params,verbose = 1, n_jobs = -1, cv=5)\n",
        "\n",
        "\n",
        "knn.fit(X_train_pca4,y_train)\n",
        "print(knn.best_params_)\n",
        "print()\n",
        "y_pred_test = knn.predict(X_test_pca4)\n",
        "y_pred_train = knn.predict(X_train_pca4)\n",
        "\n",
        "print('Mean Absolute Error:', metrics.mean_absolute_error(y_test, y_pred_test))\n",
        "print('Mean Squared Error:', metrics.mean_squared_error(y_test, y_pred_test))\n",
        "print('Root Mean Squared Error:', np.sqrt(metrics.mean_squared_error(y_test, y_pred_test)))\n",
        "print('Coefficient of Determination:', metrics.r2_score(y_test,y_pred_test))\n",
        "print()\n",
        "print('Mean Absolute Error:', metrics.mean_absolute_error(y_train, y_pred_train))\n",
        "print('Mean Squared Error:', metrics.mean_squared_error(y_train, y_pred_train))\n",
        "print('Root Mean Squared Error:', np.sqrt(metrics.mean_squared_error(y_train, y_pred_train)))\n",
        "print('Coefficient of Determination:', metrics.r2_score(y_train,y_pred_train))"
      ]
    },
    {
      "cell_type": "code",
      "execution_count": null,
      "metadata": {
        "id": "N-fPQ3vFi9wx",
        "colab": {
          "base_uri": "https://localhost:8080/"
        },
        "outputId": "f168ff90-75dd-400d-8512-a729af845a5d"
      },
      "outputs": [
        {
          "metadata": {
            "tags": null
          },
          "name": "stdout",
          "output_type": "stream",
          "text": [
            "Fitting 5 folds for each of 324 candidates, totalling 1620 fits\n"
          ]
        },
        {
          "output_type": "stream",
          "name": "stderr",
          "text": [
            "/usr/local/lib/python3.7/dist-packages/sklearn/model_selection/_validation.py:372: FitFailedWarning: \n",
            "540 fits failed out of a total of 1620.\n",
            "The score on these train-test partitions for these parameters will be set to nan.\n",
            "If these failures are not expected, you can try to debug them by setting error_score='raise'.\n",
            "\n",
            "Below are more details about the failures:\n",
            "--------------------------------------------------------------------------------\n",
            "540 fits failed with the following error:\n",
            "Traceback (most recent call last):\n",
            "  File \"/usr/local/lib/python3.7/dist-packages/sklearn/model_selection/_validation.py\", line 680, in _fit_and_score\n",
            "    estimator.fit(X_train, y_train, **fit_params)\n",
            "  File \"/usr/local/lib/python3.7/dist-packages/sklearn/ensemble/_forest.py\", line 467, in fit\n",
            "    for i, t in enumerate(trees)\n",
            "  File \"/usr/local/lib/python3.7/dist-packages/joblib/parallel.py\", line 1043, in __call__\n",
            "    if self.dispatch_one_batch(iterator):\n",
            "  File \"/usr/local/lib/python3.7/dist-packages/joblib/parallel.py\", line 861, in dispatch_one_batch\n",
            "    self._dispatch(tasks)\n",
            "  File \"/usr/local/lib/python3.7/dist-packages/joblib/parallel.py\", line 779, in _dispatch\n",
            "    job = self._backend.apply_async(batch, callback=cb)\n",
            "  File \"/usr/local/lib/python3.7/dist-packages/joblib/_parallel_backends.py\", line 208, in apply_async\n",
            "    result = ImmediateResult(func)\n",
            "  File \"/usr/local/lib/python3.7/dist-packages/joblib/_parallel_backends.py\", line 572, in __init__\n",
            "    self.results = batch()\n",
            "  File \"/usr/local/lib/python3.7/dist-packages/joblib/parallel.py\", line 263, in __call__\n",
            "    for func, args, kwargs in self.items]\n",
            "  File \"/usr/local/lib/python3.7/dist-packages/joblib/parallel.py\", line 263, in <listcomp>\n",
            "    for func, args, kwargs in self.items]\n",
            "  File \"/usr/local/lib/python3.7/dist-packages/sklearn/utils/fixes.py\", line 216, in __call__\n",
            "    return self.function(*args, **kwargs)\n",
            "  File \"/usr/local/lib/python3.7/dist-packages/sklearn/ensemble/_forest.py\", line 185, in _parallel_build_trees\n",
            "    tree.fit(X, y, sample_weight=curr_sample_weight, check_input=False)\n",
            "  File \"/usr/local/lib/python3.7/dist-packages/sklearn/tree/_classes.py\", line 942, in fit\n",
            "    X_idx_sorted=X_idx_sorted,\n",
            "  File \"/usr/local/lib/python3.7/dist-packages/sklearn/tree/_classes.py\", line 254, in fit\n",
            "    % self.min_samples_split\n",
            "ValueError: min_samples_split must be an integer greater than 1 or a float in (0.0, 1.0]; got the integer 1\n",
            "\n",
            "  warnings.warn(some_fits_failed_message, FitFailedWarning)\n",
            "/usr/local/lib/python3.7/dist-packages/sklearn/model_selection/_search.py:972: UserWarning: One or more of the test scores are non-finite: [       nan        nan        nan 0.99899273 0.99906734 0.99903003\n",
            " 0.99899273 0.99906734 0.99903003        nan        nan        nan\n",
            " 0.99899273 0.99899273 0.99903003 0.99899273 0.99899273 0.99903003\n",
            "        nan        nan        nan 0.99895542 0.99895542 0.99899273\n",
            " 0.99895542 0.99895542 0.99899273        nan        nan        nan\n",
            " 0.99925387 0.99921656 0.99917926 0.99925387 0.99921656 0.99917926\n",
            "        nan        nan        nan 0.99906734 0.99910464 0.99910464\n",
            " 0.99906734 0.99910464 0.99910464        nan        nan        nan\n",
            " 0.99903003 0.99899273 0.99903003 0.99903003 0.99899273 0.99903003\n",
            "        nan        nan        nan 0.99917926 0.99917926 0.99917926\n",
            " 0.99917926 0.99917926 0.99917926        nan        nan        nan\n",
            " 0.99906734 0.99910464 0.99910464 0.99906734 0.99910464 0.99910464\n",
            "        nan        nan        nan 0.99895542 0.99895542 0.99899273\n",
            " 0.99895542 0.99895542 0.99899273        nan        nan        nan\n",
            " 0.99899273 0.99903003 0.99903003 0.99899273 0.99903003 0.99903003\n",
            "        nan        nan        nan 0.99895542 0.99903003 0.99899273\n",
            " 0.99895542 0.99903003 0.99899273        nan        nan        nan\n",
            " 0.99895542 0.99895542 0.99891811 0.99895542 0.99895542 0.99891811\n",
            "        nan        nan        nan 0.99925387 0.99921656 0.99921656\n",
            " 0.99925387 0.99921656 0.99921656        nan        nan        nan\n",
            " 0.99903003 0.99906734 0.99903003 0.99903003 0.99906734 0.99903003\n",
            "        nan        nan        nan 0.99903003 0.99903003 0.99899273\n",
            " 0.99903003 0.99903003 0.99899273        nan        nan        nan\n",
            " 0.99917926 0.99914195 0.99917926 0.99917926 0.99914195 0.99917926\n",
            "        nan        nan        nan 0.99910464 0.99914195 0.99910464\n",
            " 0.99910464 0.99914195 0.99910464        nan        nan        nan\n",
            " 0.99895542 0.99895542 0.99899273 0.99895542 0.99895542 0.99899273\n",
            "        nan        nan        nan 0.99910464 0.99910464 0.99910464\n",
            " 0.99910464 0.99910464 0.99910464        nan        nan        nan\n",
            " 0.99899273 0.99903003 0.99899273 0.99899273 0.99903003 0.99899273\n",
            "        nan        nan        nan 0.99895542 0.99895542 0.99895542\n",
            " 0.99895542 0.99895542 0.99895542        nan        nan        nan\n",
            " 0.99921656 0.99917926 0.99917926 0.99921656 0.99917926 0.99917926\n",
            "        nan        nan        nan 0.99910464 0.99906734 0.99906734\n",
            " 0.99910464 0.99906734 0.99906734        nan        nan        nan\n",
            " 0.99903003 0.99899273 0.99899273 0.99903003 0.99899273 0.99899273\n",
            "        nan        nan        nan 0.99917926 0.99914195 0.99917926\n",
            " 0.99917926 0.99914195 0.99917926        nan        nan        nan\n",
            " 0.99910464 0.99910464 0.99910464 0.99910464 0.99910464 0.99910464\n",
            "        nan        nan        nan 0.99895542 0.99895542 0.99899273\n",
            " 0.99895542 0.99895542 0.99899273        nan        nan        nan\n",
            " 0.99903003 0.99906734 0.99906734 0.99903003 0.99906734 0.99906734\n",
            "        nan        nan        nan 0.99899273 0.99899273 0.99895542\n",
            " 0.99899273 0.99899273 0.99895542        nan        nan        nan\n",
            " 0.99895542 0.99895542 0.99899273 0.99895542 0.99895542 0.99899273\n",
            "        nan        nan        nan 0.99921656 0.99917926 0.99917926\n",
            " 0.99921656 0.99917926 0.99917926        nan        nan        nan\n",
            " 0.99903003 0.99903003 0.99903003 0.99903003 0.99903003 0.99903003\n",
            "        nan        nan        nan 0.99903003 0.99899273 0.99899273\n",
            " 0.99903003 0.99899273 0.99899273        nan        nan        nan\n",
            " 0.99917926 0.99914195 0.99917926 0.99917926 0.99914195 0.99917926\n",
            "        nan        nan        nan 0.99910464 0.99910464 0.99910464\n",
            " 0.99910464 0.99910464 0.99910464        nan        nan        nan\n",
            " 0.99895542 0.99895542 0.99899273 0.99895542 0.99895542 0.99899273]\n",
            "  category=UserWarning,\n"
          ]
        },
        {
          "output_type": "stream",
          "name": "stdout",
          "text": [
            "Measures of Error: Test Set\n",
            "Mean Absolute Error: 0.0005595344673231871\n",
            "Mean Squared Error: 0.0005595344673231871\n",
            "Root Mean Squared Error: 0.02365448091426204\n",
            "Coefficient of Determination: 0.8523795049361016\n",
            "\n",
            "Measures of Error: Train Set\n",
            "Mean Absolute Error: 0.0003357582540570789\n",
            "Mean Squared Error: 0.0003357582540570789\n",
            "Root Mean Squared Error: 0.018323707432096784\n",
            "Coefficient of Determination: 0.8692285926157208\n"
          ]
        }
      ],
      "source": [
        "from sklearn.ensemble import RandomForestClassifier\n",
        "params  = {\n",
        "  'max_depth': [10,11,12,13],\n",
        "  'max_features': [2,3,4], \n",
        "  'min_samples_leaf': [3,4,5], \n",
        "  'min_samples_split': [1,2,3],\n",
        "  'n_estimators': [110,120,130]\n",
        "}\n",
        "\n",
        "#best features\n",
        "# {'max_depth': 12,\n",
        "#  'max_features': 3,\n",
        "#  'min_samples_leaf': 4,\n",
        "#  'min_samples_split': 2,\n",
        "#  'n_estimators': 120}\n",
        "\n",
        "forest = GridSearchCV(RandomForestClassifier(random_state=1),params, n_jobs=-1, verbose=1,cv=5)\n",
        "forest.fit(X_train_pca4,y_train)\n",
        "\n",
        "y_pred_test = forest.predict(X_test_pca4)\n",
        "y_pred_train = forest.predict(X_train_pca4)\n",
        "\n",
        "print('Measures of Error: Test Set')\n",
        "print('Mean Absolute Error:', metrics.mean_absolute_error(y_test, y_pred_test))\n",
        "print('Mean Squared Error:', metrics.mean_squared_error(y_test, y_pred_test))\n",
        "print('Root Mean Squared Error:', np.sqrt(metrics.mean_squared_error(y_test, y_pred_test)))\n",
        "print('Coefficient of Determination:' , metrics.r2_score(y_test,y_pred_test))\n",
        "print()\n",
        "print('Measures of Error: Train Set')\n",
        "print('Mean Absolute Error:', metrics.mean_absolute_error(y_train, y_pred_train))\n",
        "print('Mean Squared Error:', metrics.mean_squared_error(y_train, y_pred_train))\n",
        "print('Root Mean Squared Error:', np.sqrt(metrics.mean_squared_error(y_train, y_pred_train)))\n",
        "print('Coefficient of Determination:' , metrics.r2_score(y_train,y_pred_train))"
      ]
    },
    {
      "cell_type": "code",
      "source": [
        "forest = RandomForestClassifier(max_depth=12, max_features=3, min_samples_leaf=4, min_samples_split=2, n_estimators=120)\n",
        "forest.fit(X_train_pca4,y_train)\n",
        "\n",
        "y_pred_test = forest.predict(X_test_pca4)\n",
        "y_pred_train = forest.predict(X_train_pca4)\n",
        "\n",
        "print('Measures of Error: Test Set')\n",
        "print('Mean Absolute Error:', metrics.mean_absolute_error(y_test, y_pred_test))\n",
        "print('Mean Squared Error:', metrics.mean_squared_error(y_test, y_pred_test))\n",
        "print('Root Mean Squared Error:', np.sqrt(metrics.mean_squared_error(y_test, y_pred_test)))\n",
        "print('Coefficient of Determination:' , metrics.r2_score(y_test,y_pred_test))\n",
        "print()\n",
        "print('Measures of Error: Train Set')\n",
        "print('Mean Absolute Error:', metrics.mean_absolute_error(y_train, y_pred_train))\n",
        "print('Mean Squared Error:', metrics.mean_squared_error(y_train, y_pred_train))\n",
        "print('Root Mean Squared Error:', np.sqrt(metrics.mean_squared_error(y_train, y_pred_train)))\n",
        "print('Coefficient of Determination:' , metrics.r2_score(y_train,y_pred_train))"
      ],
      "metadata": {
        "colab": {
          "base_uri": "https://localhost:8080/"
        },
        "id": "_s1z1Md94mHu",
        "outputId": "2814101b-a372-486c-b0c8-39e09089939d"
      },
      "execution_count": null,
      "outputs": [
        {
          "output_type": "stream",
          "name": "stdout",
          "text": [
            "Measures of Error: Test Set\n",
            "Mean Absolute Error: 0.0005595344673231871\n",
            "Mean Squared Error: 0.0005595344673231871\n",
            "Root Mean Squared Error: 0.02365448091426204\n",
            "Coefficient of Determination: 0.8523795049361016\n",
            "\n",
            "Measures of Error: Train Set\n",
            "Mean Absolute Error: 0.0004476776720761052\n",
            "Mean Squared Error: 0.0004476776720761052\n",
            "Root Mean Squared Error: 0.021158394836946048\n",
            "Coefficient of Determination: 0.8256381234876278\n"
          ]
        }
      ]
    }
  ],
  "metadata": {
    "colab": {
      "provenance": []
    },
    "kernelspec": {
      "display_name": "Python 3",
      "name": "python3"
    },
    "language_info": {
      "name": "python"
    }
  },
  "nbformat": 4,
  "nbformat_minor": 0
}